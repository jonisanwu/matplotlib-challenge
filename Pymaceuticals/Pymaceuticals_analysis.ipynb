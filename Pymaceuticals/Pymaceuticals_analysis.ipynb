{
 "cells": [
  {
   "cell_type": "code",
   "execution_count": null,
   "metadata": {},
   "outputs": [],
   "source": [
    "%matplotlib inline\n",
    "import matplotlib.pyplot as plt\n",
    "import pandas as pd\n",
    "import numpy as np\n",
    "# import os\n",
    "import warnings\n",
    "\n",
    "warnings.filterwarnings('ignore')\n",
    "\n",
    "# display whole dataframe - https://songhuiming.github.io/pages/2017/04/02/jupyter-and-pandas-display/\n",
    "pd.options.display.max_columns = None\n",
    "pd.options.display.max_rows = None\n",
    "\n",
    "# trying to utilize os to read directory file. - https://www.shanelynn.ie/python-pandas-read_csv-load-data-from-csv-files/\n",
    "# os.getcwd()\n",
    "# os.listdir(os.getcwd())\n",
    "\n",
    "# File to Load (Remember to Change These)\n",
    "mouse_data = \"data/mouse_drug_data.csv\"\n",
    "clinical_data = \"data/clinicaltrial_data.csv\"\n",
    "\n",
    "# Read the Mouse and Drug Data and the Clinical Trial Data\n",
    "mouse_df = pd.read_csv(mouse_data)\n",
    "clinical_df = pd.read_csv(clinical_data)\n",
    "\n",
    "# clinical_df()\n",
    "# mouse_df.head()\n",
    "\n",
    "# Combine the data into a single dataset\n",
    "combined_df = pd.merge(mouse_df, clinical_df, how='outer', on=\"Mouse ID\")\n",
    "\n",
    "combined_df.head()\n",
    "\n",
    "# Display the data table for preview\n",
    "\n"
   ]
  },
  {
   "cell_type": "code",
   "execution_count": null,
   "metadata": {},
   "outputs": [],
   "source": [
    "# Store the Mean Tumor Volume Data Grouped by Drug and Timepoint \n",
    "revised_df = combined_df.drop(columns=['Mouse ID', 'Metastatic Sites'])\n",
    "mean_drug_time_df = revised_df.groupby(by=[\"Drug\",\"Timepoint\"]).mean()\n",
    "\n",
    "# Convert to DataFrame\n",
    "\n",
    "# Preview DataFrame\n",
    "mean_drug_time_df"
   ]
  },
  {
   "cell_type": "code",
   "execution_count": null,
   "metadata": {},
   "outputs": [],
   "source": [
    "# Store the Standard Error of Tumor Volumes Grouped by Drug and Timepoint\n",
    "sem_drug_time_df = revised_df.groupby(by=[\"Drug\",\"Timepoint\"]).sem()\n",
    "# Convert to DataFrame\n",
    "sem_drug_time_df\n",
    "# Preview DataFrame"
   ]
  }
 ],
 "metadata": {
  "kernelspec": {
   "display_name": "Python [conda env:PythonData] *",
   "language": "python",
   "name": "conda-env-PythonData-py"
  },
  "language_info": {
   "codemirror_mode": {
    "name": "ipython",
    "version": 3
   },
   "file_extension": ".py",
   "mimetype": "text/x-python",
   "name": "python",
   "nbconvert_exporter": "python",
   "pygments_lexer": "ipython3",
   "version": "3.6.9"
  }
 },
 "nbformat": 4,
 "nbformat_minor": 2
}
